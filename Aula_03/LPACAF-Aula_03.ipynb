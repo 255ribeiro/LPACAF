{
 "cells": [
  {
   "cell_type": "markdown",
   "source": [
    "Lógica de Programação Apliaca à Criação e Análise da Forma\n",
    "===============================\n",
    "## Módulo 01 - Fundamentos de Programação em Python 2.7x\n",
    "### Aula 03\n",
    "#### Autor: Fernando Ferraz Ribeiro\n",
    "fernando.ribeiro@ufba.br"
   ],
   "metadata": {}
  },
  {
   "cell_type": "markdown",
   "source": [
    "### 1. Palavras reservadas (keywords)\n",
    "\n",
    "É possível atribuir um nome para uma variável em Python desde que se siga 3 regras:\n",
    "\n",
    "     1. não se pode começar o nome de uma variável com números;\n",
    "     2. não se utiliza caracteres especiais no nome das variáveis;\n",
    "     3. o nome de uma variável não pode ser igual a uma palavra reservada.\n",
    "     \n",
    " [Palavras reservadas do Python](https://docs.python.org/2/reference/lexical_analysis.html#keywords)\n"
   ],
   "metadata": {}
  },
  {
   "cell_type": "markdown",
   "source": [
    "### 2. Funções e Métodos\n",
    "\n"
   ],
   "metadata": {}
  },
  {
   "cell_type": "markdown",
   "source": [
    "#### Exemplos com *Strings*:\n",
    "\n",
    "Atribuindo uma *string* para uma variável"
   ],
   "metadata": {}
  },
  {
   "cell_type": "code",
   "execution_count": 1,
   "source": [
    "varStr = 'vamos proGramar em Python!'\r\n",
    "print varStr"
   ],
   "outputs": [
    {
     "output_type": "stream",
     "name": "stdout",
     "text": [
      "vamos proGramar em pyThon!\n"
     ]
    }
   ],
   "metadata": {
    "scrolled": true
   }
  },
  {
   "cell_type": "markdown",
   "source": [
    "#### Funções "
   ],
   "metadata": {}
  },
  {
   "cell_type": "code",
   "execution_count": 2,
   "source": [
    "type(varStr)"
   ],
   "outputs": [
    {
     "output_type": "execute_result",
     "data": {
      "text/plain": [
       "str"
      ]
     },
     "metadata": {},
     "execution_count": 2
    }
   ],
   "metadata": {}
  },
  {
   "cell_type": "code",
   "execution_count": 3,
   "source": [
    "len(varStr)"
   ],
   "outputs": [
    {
     "output_type": "execute_result",
     "data": {
      "text/plain": [
       "26"
      ]
     },
     "metadata": {},
     "execution_count": 3
    }
   ],
   "metadata": {}
  },
  {
   "cell_type": "markdown",
   "source": [
    "#### Métodos\n",
    "\n",
    "O método .lower() retorna todos os caracteres alfabéticos da strig como letras minusculas"
   ],
   "metadata": {}
  },
  {
   "cell_type": "code",
   "execution_count": 4,
   "source": [
    "print varStr.lower()"
   ],
   "outputs": [
    {
     "output_type": "stream",
     "name": "stdout",
     "text": [
      "vamos programar em python!\n"
     ]
    }
   ],
   "metadata": {
    "scrolled": true
   }
  },
  {
   "cell_type": "markdown",
   "source": [
    "O método .upper() retorna todos os caracteres alfabéticos da strig como letras maiusculas"
   ],
   "metadata": {}
  },
  {
   "cell_type": "code",
   "execution_count": 5,
   "source": [
    "print varStr.upper()"
   ],
   "outputs": [
    {
     "output_type": "stream",
     "name": "stdout",
     "text": [
      "VAMOS PROGRAMAR EM PYTHON!\n"
     ]
    }
   ],
   "metadata": {}
  },
  {
   "cell_type": "markdown",
   "source": [
    "O método .title() retorna apenas as primeiras letras das palávras como letras maiusculas."
   ],
   "metadata": {}
  },
  {
   "cell_type": "code",
   "execution_count": 6,
   "source": [
    "print varStr.title()"
   ],
   "outputs": [
    {
     "output_type": "stream",
     "name": "stdout",
     "text": [
      "Vamos Programar Em Python!\n"
     ]
    }
   ],
   "metadata": {}
  },
  {
   "cell_type": "markdown",
   "source": [
    "#### Exemplos com Listas:\n",
    "\n",
    "Criando uma lista."
   ],
   "metadata": {}
  },
  {
   "cell_type": "code",
   "execution_count": 7,
   "source": [
    "lista1 = [1, 3.14, 'python', True]\r\n",
    "print lista1"
   ],
   "outputs": [
    {
     "output_type": "stream",
     "name": "stdout",
     "text": [
      "[1, 3.14, 'python', True]\n"
     ]
    }
   ],
   "metadata": {}
  },
  {
   "cell_type": "markdown",
   "source": [
    "#### Funções\n",
    "\n",
    "função len()"
   ],
   "metadata": {}
  },
  {
   "cell_type": "code",
   "execution_count": 8,
   "source": [
    "len(lista1)"
   ],
   "outputs": [
    {
     "output_type": "execute_result",
     "data": {
      "text/plain": [
       "4"
      ]
     },
     "metadata": {},
     "execution_count": 8
    }
   ],
   "metadata": {
    "scrolled": true
   }
  },
  {
   "cell_type": "markdown",
   "source": [
    "Função type() aplicada á lista"
   ],
   "metadata": {}
  },
  {
   "cell_type": "code",
   "execution_count": 9,
   "source": [
    "type(lista1)"
   ],
   "outputs": [
    {
     "output_type": "execute_result",
     "data": {
      "text/plain": [
       "list"
      ]
     },
     "metadata": {},
     "execution_count": 9
    }
   ],
   "metadata": {}
  },
  {
   "cell_type": "markdown",
   "source": [
    "função type() aplicada aos membros da lista"
   ],
   "metadata": {}
  },
  {
   "cell_type": "code",
   "execution_count": 10,
   "source": [
    "print lista1[0]\r\n",
    "type(lista1[0])"
   ],
   "outputs": [
    {
     "output_type": "stream",
     "name": "stdout",
     "text": [
      "1\n"
     ]
    },
    {
     "output_type": "execute_result",
     "data": {
      "text/plain": [
       "int"
      ]
     },
     "metadata": {},
     "execution_count": 10
    }
   ],
   "metadata": {}
  },
  {
   "cell_type": "code",
   "execution_count": 11,
   "source": [
    "print lista1[1]\r\n",
    "type(lista1[1])"
   ],
   "outputs": [
    {
     "output_type": "stream",
     "name": "stdout",
     "text": [
      "3.14\n"
     ]
    },
    {
     "output_type": "execute_result",
     "data": {
      "text/plain": [
       "float"
      ]
     },
     "metadata": {},
     "execution_count": 11
    }
   ],
   "metadata": {}
  },
  {
   "cell_type": "code",
   "execution_count": 12,
   "source": [
    "print lista1[2]\r\n",
    "type(lista1[2])"
   ],
   "outputs": [
    {
     "output_type": "stream",
     "name": "stdout",
     "text": [
      "python\n"
     ]
    },
    {
     "output_type": "execute_result",
     "data": {
      "text/plain": [
       "str"
      ]
     },
     "metadata": {},
     "execution_count": 12
    }
   ],
   "metadata": {}
  },
  {
   "cell_type": "code",
   "execution_count": 13,
   "source": [
    "print lista1[3]\r\n",
    "type(lista1[3])"
   ],
   "outputs": [
    {
     "output_type": "stream",
     "name": "stdout",
     "text": [
      "True\n"
     ]
    },
    {
     "output_type": "execute_result",
     "data": {
      "text/plain": [
       "bool"
      ]
     },
     "metadata": {},
     "execution_count": 13
    }
   ],
   "metadata": {}
  },
  {
   "cell_type": "markdown",
   "source": [
    "Utilizando a palavra reservada ```del``` para excluir um membro da lista."
   ],
   "metadata": {}
  },
  {
   "cell_type": "code",
   "execution_count": 14,
   "source": [
    "print lista1\r\n",
    "\r\n",
    "del lista1[0]\r\n",
    "\r\n",
    "print lista1"
   ],
   "outputs": [
    {
     "output_type": "stream",
     "name": "stdout",
     "text": [
      "[1, 3.14, 'python', True]\n",
      "[3.14, 'python', True]\n"
     ]
    }
   ],
   "metadata": {}
  },
  {
   "cell_type": "markdown",
   "source": [
    "#### Métodos\n",
    "\n",
    "##### O método .append() coloca um elemento no final da lista"
   ],
   "metadata": {}
  },
  {
   "cell_type": "code",
   "execution_count": 15,
   "source": [
    "lista1.append(2)\r\n",
    "print lista1\r\n",
    "print len(lista1)"
   ],
   "outputs": [
    {
     "output_type": "stream",
     "name": "stdout",
     "text": [
      "[3.14, 'python', True, 2]\n",
      "4\n"
     ]
    }
   ],
   "metadata": {}
  },
  {
   "cell_type": "markdown",
   "source": [
    "##### O método .pop(i) retira o elemento de índice i da lista e retorna o valor"
   ],
   "metadata": {}
  },
  {
   "cell_type": "code",
   "execution_count": 16,
   "source": [
    "p = lista1.pop(-1)\n",
    "print p\n",
    "print lista1"
   ],
   "outputs": [
    {
     "output_type": "stream",
     "name": "stdout",
     "text": [
      "2\n",
      "[3.14, 'python', True]\n"
     ]
    }
   ],
   "metadata": {}
  },
  {
   "cell_type": "markdown",
   "source": [
    "##### O método .insert(i,e) coloca o elemento e no índice i da lista"
   ],
   "metadata": {}
  },
  {
   "cell_type": "code",
   "execution_count": 17,
   "source": [
    "lista1.insert(0,p)\n",
    "print lista1"
   ],
   "outputs": [
    {
     "output_type": "stream",
     "name": "stdout",
     "text": [
      "[2, 3.14, 'python', True]\n"
     ]
    }
   ],
   "metadata": {}
  },
  {
   "cell_type": "markdown",
   "source": [
    "### 3. Bibliotecas\n",
    "\n"
   ],
   "metadata": {}
  },
  {
   "cell_type": "markdown",
   "source": [
    "Alem das funções [Built-in](https://docs.python.org/2/library/functions.html#) do Python 2.7, outras funções e objetos podem ser incorporados usando as palavras reservadas ``` import```, ```from ``` e ``` as```"
   ],
   "metadata": {}
  },
  {
   "cell_type": "markdown",
   "source": [
    "#### Biblioteca keyword"
   ],
   "metadata": {}
  },
  {
   "cell_type": "code",
   "execution_count": 18,
   "source": [
    "import keyword\n",
    "\n",
    "pyKw = keyword.kwlist\n",
    "\n",
    "print pyKw"
   ],
   "outputs": [
    {
     "output_type": "stream",
     "name": "stdout",
     "text": [
      "['and', 'as', 'assert', 'break', 'class', 'continue', 'def', 'del', 'elif', 'else', 'except', 'exec', 'finally', 'for', 'from', 'global', 'if', 'import', 'in', 'is', 'lambda', 'not', 'or', 'pass', 'print', 'raise', 'return', 'try', 'while', 'with', 'yield']\n"
     ]
    }
   ],
   "metadata": {}
  },
  {
   "cell_type": "code",
   "execution_count": 19,
   "source": [
    "len(pyKw)"
   ],
   "outputs": [
    {
     "output_type": "execute_result",
     "data": {
      "text/plain": [
       "31"
      ]
     },
     "metadata": {},
     "execution_count": 19
    }
   ],
   "metadata": {}
  },
  {
   "cell_type": "markdown",
   "source": [
    "#### Biblioteca math"
   ],
   "metadata": {}
  },
  {
   "cell_type": "code",
   "execution_count": 20,
   "source": [
    "# importando biblioteca\n",
    "import math\n",
    "\n",
    "# atribuindo valor à variável x\n",
    "x = 4\n",
    "\n",
    "#usando a função raíz quadrada da biblioteca math\n",
    "print math.sqrt(x)\n"
   ],
   "outputs": [
    {
     "output_type": "stream",
     "name": "stdout",
     "text": [
      "2.0\n"
     ]
    }
   ],
   "metadata": {}
  },
  {
   "cell_type": "code",
   "execution_count": 21,
   "source": [
    "#usando a função seno da biblioteca math\n",
    "\n",
    "y = 60\n",
    "\n",
    "print math.sin(math.radians(y))"
   ],
   "outputs": [
    {
     "output_type": "stream",
     "name": "stdout",
     "text": [
      "0.866025403784\n"
     ]
    }
   ],
   "metadata": {
    "scrolled": true
   }
  },
  {
   "cell_type": "markdown",
   "source": [
    "#### Biblioteca datetime"
   ],
   "metadata": {}
  },
  {
   "cell_type": "code",
   "execution_count": 22,
   "source": [
    "import datetime"
   ],
   "outputs": [],
   "metadata": {}
  },
  {
   "cell_type": "code",
   "execution_count": 23,
   "source": [
    "bDay = datetime.date(2018, 9, 2)\n",
    "\n",
    "print bDay"
   ],
   "outputs": [
    {
     "output_type": "stream",
     "name": "stdout",
     "text": [
      "2018-09-02\n"
     ]
    }
   ],
   "metadata": {}
  },
  {
   "cell_type": "code",
   "execution_count": 24,
   "source": [
    "# dia da semana\n",
    "diaSem = bDay.weekday()"
   ],
   "outputs": [],
   "metadata": {}
  },
  {
   "cell_type": "code",
   "execution_count": 25,
   "source": [
    "semana = [ 'seg', 'ter', 'qua', 'qui', 'sex', 'sab', 'dom']\n",
    "\n",
    "print \"o dia \", bDay, \" cairá no(a)\", semana[diaSem]"
   ],
   "outputs": [
    {
     "output_type": "stream",
     "name": "stdout",
     "text": [
      "o dia  2018-09-02  cairá no(a) dom\n"
     ]
    }
   ],
   "metadata": {}
  },
  {
   "cell_type": "code",
   "execution_count": 26,
   "source": [
    "fimDoCurso = datetime.date(2018, 2, 23)\n",
    "\n",
    "limite = datetime.timedelta(days=90)\n",
    "\n",
    "print fimDoCurso - limite\n"
   ],
   "outputs": [
    {
     "output_type": "stream",
     "name": "stdout",
     "text": [
      "2017-11-25\n"
     ]
    }
   ],
   "metadata": {}
  },
  {
   "cell_type": "markdown",
   "source": [
    "#### Três formas de importação"
   ],
   "metadata": {}
  },
  {
   "cell_type": "code",
   "execution_count": 27,
   "source": [
    "import math\n",
    "\n",
    "ang = 60\n",
    "\n",
    "angRad = math.radians(60)\n",
    "\n",
    "print ang, \" em gráus = \", angRad, \" em radiandos\"\n",
    "\n",
    "print \"seno de \", ang, \"° = \",math.sin(angRad)"
   ],
   "outputs": [
    {
     "output_type": "stream",
     "name": "stdout",
     "text": [
      "60  em gráus =  1.0471975512  em radiandos\n",
      "seno de  60 ° =  0.866025403784\n"
     ]
    }
   ],
   "metadata": {}
  },
  {
   "cell_type": "code",
   "execution_count": 28,
   "source": [
    "import math as m\n",
    "\n",
    "ang = 60\n",
    "\n",
    "angRad = m.radians(60)\n",
    "\n",
    "print ang, \" em gráus = \", angRad, \" em radiandos\"\n",
    "\n",
    "print \"seno de \", ang, \"° = \",m.sin(angRad)"
   ],
   "outputs": [
    {
     "output_type": "stream",
     "name": "stdout",
     "text": [
      "60  em gráus =  1.0471975512  em radiandos\n",
      "seno de  60 ° =  0.866025403784\n"
     ]
    }
   ],
   "metadata": {}
  },
  {
   "cell_type": "code",
   "execution_count": 29,
   "source": [
    "from math import sin, radians\n",
    "\n",
    "ang = 60\n",
    "\n",
    "angRad = radians(60)\n",
    "\n",
    "print ang, \" em gráus = \", angRad, \" em radiandos\"\n",
    "\n",
    "print \"seno de \", ang, \"° = \",sin(angRad)"
   ],
   "outputs": [
    {
     "output_type": "stream",
     "name": "stdout",
     "text": [
      "60  em gráus =  1.0471975512  em radiandos\n",
      "seno de  60 ° =  0.866025403784\n"
     ]
    }
   ],
   "metadata": {}
  },
  {
   "cell_type": "markdown",
   "source": [
    "### 4. Funções Definidas Pelo Usuário"
   ],
   "metadata": {}
  },
  {
   "cell_type": "markdown",
   "source": [
    "O usuário pode definir funções usando a palavra reservada ``` def ```"
   ],
   "metadata": {}
  },
  {
   "cell_type": "code",
   "execution_count": 30,
   "source": [
    "def teste():\n",
    "    print 'função de teste'"
   ],
   "outputs": [],
   "metadata": {}
  },
  {
   "cell_type": "markdown",
   "source": [
    "Após a definição é preciso chamar a função para executar\n"
   ],
   "metadata": {}
  },
  {
   "cell_type": "code",
   "execution_count": 31,
   "source": [
    "teste()"
   ],
   "outputs": [
    {
     "output_type": "stream",
     "name": "stdout",
     "text": [
      "função de teste\n"
     ]
    }
   ],
   "metadata": {}
  },
  {
   "cell_type": "markdown",
   "source": [
    "A definição de funções ajuda a organizar o código e facilita a evolução e manutenção do programa. Uma das vantágens de trabalhar com funções é quando a função deve ser chamada diversas vezes em um mesmo código."
   ],
   "metadata": {}
  },
  {
   "cell_type": "code",
   "execution_count": 32,
   "source": [
    "print \" ---Primeira chamada\"\n",
    "teste()\n",
    "print \" ---Segunda chamada\"\n",
    "teste()\n",
    "print \" ---Terceira chamada\"\n",
    "teste()"
   ],
   "outputs": [
    {
     "output_type": "stream",
     "name": "stdout",
     "text": [
      " ---Primeira chamada\n",
      "função de teste\n",
      " ---Segunda chamada\n",
      "função de teste\n",
      " ---Terceira chamada\n",
      "função de teste\n"
     ]
    }
   ],
   "metadata": {}
  },
  {
   "cell_type": "markdown",
   "source": [
    "Exemplo de funções:"
   ],
   "metadata": {}
  },
  {
   "cell_type": "code",
   "execution_count": 33,
   "source": [
    "import math as m\n",
    "\n",
    "\n",
    "# Cálculo de delta\n",
    "def delta(a,b,c):\n",
    "    d = b**2 - (4*a*c)\n",
    "    return d\n",
    "\n",
    "# Função Bhaskara\n",
    "def Bhaskara(a,b,c):\n",
    "    # Chamada da função de delta\n",
    "    dt = delta(a,b,c)\n",
    "    # testando o valor de delta\n",
    "    if dt < 0:\n",
    "        print \"Não existem raízes reias para esta equação\"\n",
    "    if dt == 0:\n",
    "        r = (-b)/(2*a)\n",
    "        print \"A raíz da equação é \", r\n",
    "    if dt > 0:\n",
    "        r1 = (-b - m.sqrt(dt))/(2*a)\n",
    "        r2 = (-b + m.sqrt(dt))/(2*a)\n",
    "        print \"As raizes da equação são \", r1, \" e \", r2"
   ],
   "outputs": [],
   "metadata": {}
  },
  {
   "cell_type": "markdown",
   "source": [
    "Após a definição destas funções é possivel calcular as raízes de qualquer equação do segundo grau."
   ],
   "metadata": {}
  },
  {
   "cell_type": "code",
   "execution_count": 34,
   "source": [
    "delta(1,2,3)"
   ],
   "outputs": [
    {
     "output_type": "execute_result",
     "data": {
      "text/plain": [
       "-8"
      ]
     },
     "metadata": {},
     "execution_count": 34
    }
   ],
   "metadata": {}
  },
  {
   "cell_type": "code",
   "execution_count": 35,
   "source": [
    "Bhaskara(1,2,3)"
   ],
   "outputs": [
    {
     "output_type": "stream",
     "name": "stdout",
     "text": [
      "Não existem raízes reias para esta equação\n"
     ]
    }
   ],
   "metadata": {
    "scrolled": true
   }
  },
  {
   "cell_type": "code",
   "execution_count": 36,
   "source": [
    "delta(2,4,2)"
   ],
   "outputs": [
    {
     "output_type": "execute_result",
     "data": {
      "text/plain": [
       "0"
      ]
     },
     "metadata": {},
     "execution_count": 36
    }
   ],
   "metadata": {}
  },
  {
   "cell_type": "code",
   "execution_count": 37,
   "source": [
    "Bhaskara(2,4,2)"
   ],
   "outputs": [
    {
     "output_type": "stream",
     "name": "stdout",
     "text": [
      "A raíz da equação é  -1\n"
     ]
    }
   ],
   "metadata": {}
  },
  {
   "cell_type": "code",
   "execution_count": 38,
   "source": [
    "delta(2,4,0)"
   ],
   "outputs": [
    {
     "output_type": "execute_result",
     "data": {
      "text/plain": [
       "16"
      ]
     },
     "metadata": {},
     "execution_count": 38
    }
   ],
   "metadata": {}
  },
  {
   "cell_type": "code",
   "execution_count": 39,
   "source": [
    "Bhaskara(2,4,0)"
   ],
   "outputs": [
    {
     "output_type": "stream",
     "name": "stdout",
     "text": [
      "As raizes da equação são  -2.0  e  0.0\n"
     ]
    }
   ],
   "metadata": {}
  }
 ],
 "metadata": {
  "kernelspec": {
   "display_name": "Python 2",
   "language": "python",
   "name": "python2"
  },
  "language_info": {
   "codemirror_mode": {
    "name": "ipython",
    "version": 2
   },
   "file_extension": ".py",
   "mimetype": "text/x-python",
   "name": "python",
   "nbconvert_exporter": "python",
   "pygments_lexer": "ipython2",
   "version": "2.7.13"
  }
 },
 "nbformat": 4,
 "nbformat_minor": 2
}