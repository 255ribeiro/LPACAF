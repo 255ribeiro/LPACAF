{
 "cells": [
  {
   "cell_type": "markdown",
   "metadata": {},
   "source": [
    "Lógica de Programação Apliaca à Criação e Análise da Forma\n",
    "===============================\n",
    "## Módulo 01 - Fundamentos de Programação em Python 2.7x\n",
    "### Aula 03\n",
    "#### Autor: Fernando Ferraz Ribeiro\n",
    "fernando.ribeiro@ufba.br"
   ]
  },
  {
   "cell_type": "markdown",
   "metadata": {},
   "source": [
    "### 1. Palavras reservadas (keywords)\n",
    "\n",
    "É possível atribuir um nome para uma variável em Python desde que se siga 3 regras:\n",
    "\n",
    "     1. não se pode começar o nome de uma variável com números;\n",
    "     2. não se utiliza caracteres especiais no nome das variáveis;\n",
    "     3. o nome de uma variável não pode ser igual a uma palavra reservada.\n",
    "     \n",
    " [Palavras reservadas do Python](https://docs.python.org/2/reference/lexical_analysis.html#keywords)\n"
   ]
  },
  {
   "cell_type": "markdown",
   "metadata": {},
   "source": [
    "### 2. Funções e Métodos\n",
    "\n"
   ]
  },
  {
   "cell_type": "markdown",
   "metadata": {},
   "source": [
    "#### Exemplos com *Strings*:\n",
    "\n",
    "Atribuindo uma *string* para uma variável"
   ]
  },
  {
   "cell_type": "code",
   "execution_count": 1,
   "metadata": {
    "scrolled": true
   },
   "outputs": [
    {
     "name": "stdout",
     "output_type": "stream",
     "text": [
      "vamos proGramar em pyThon?\n"
     ]
    }
   ],
   "source": [
    "varStr = 'vamos proGramar em pyThon?'\n",
    "print varStr"
   ]
  },
  {
   "cell_type": "markdown",
   "metadata": {},
   "source": [
    "#### Funções "
   ]
  },
  {
   "cell_type": "code",
   "execution_count": 2,
   "metadata": {},
   "outputs": [
    {
     "data": {
      "text/plain": [
       "str"
      ]
     },
     "execution_count": 2,
     "metadata": {},
     "output_type": "execute_result"
    }
   ],
   "source": [
    "type(varStr)"
   ]
  },
  {
   "cell_type": "code",
   "execution_count": 3,
   "metadata": {},
   "outputs": [
    {
     "data": {
      "text/plain": [
       "26"
      ]
     },
     "execution_count": 3,
     "metadata": {},
     "output_type": "execute_result"
    }
   ],
   "source": [
    "len(varStr)"
   ]
  },
  {
   "cell_type": "markdown",
   "metadata": {},
   "source": [
    "#### Métodos\n",
    "\n",
    "O método .lower() retorna todos os caracteres alfabéticos da strig como letras minusculas"
   ]
  },
  {
   "cell_type": "code",
   "execution_count": 4,
   "metadata": {
    "scrolled": true
   },
   "outputs": [
    {
     "name": "stdout",
     "output_type": "stream",
     "text": [
      "vamos programar em python?\n"
     ]
    }
   ],
   "source": [
    "print varStr.lower()"
   ]
  },
  {
   "cell_type": "markdown",
   "metadata": {},
   "source": [
    "O método .upper() retorna todos os caracteres alfabéticos da strig como letras maiusculas"
   ]
  },
  {
   "cell_type": "code",
   "execution_count": 5,
   "metadata": {},
   "outputs": [
    {
     "name": "stdout",
     "output_type": "stream",
     "text": [
      "VAMOS PROGRAMAR EM PYTHON?\n"
     ]
    }
   ],
   "source": [
    "print varStr.upper()"
   ]
  },
  {
   "cell_type": "markdown",
   "metadata": {},
   "source": [
    "O método .title() retorna apenas as primeiras letras das palávras como letras maiusculas."
   ]
  },
  {
   "cell_type": "code",
   "execution_count": 6,
   "metadata": {},
   "outputs": [
    {
     "name": "stdout",
     "output_type": "stream",
     "text": [
      "Vamos Programar Em Python?\n"
     ]
    }
   ],
   "source": [
    "print varStr.title()"
   ]
  },
  {
   "cell_type": "markdown",
   "metadata": {},
   "source": [
    "#### Exemplos com Listas:\n",
    "\n",
    "Criando uma lista."
   ]
  },
  {
   "cell_type": "code",
   "execution_count": 7,
   "metadata": {},
   "outputs": [
    {
     "name": "stdout",
     "output_type": "stream",
     "text": [
      "[1, 3.14, 'python', True]\n"
     ]
    }
   ],
   "source": [
    "lista1 = [1, 3.14, 'python', True]\n",
    "print lista1"
   ]
  },
  {
   "cell_type": "code",
   "execution_count": 8,
   "metadata": {},
   "outputs": [
    {
     "data": {
      "text/plain": [
       "4"
      ]
     },
     "execution_count": 8,
     "metadata": {},
     "output_type": "execute_result"
    }
   ],
   "source": [
    "len(lista1)"
   ]
  },
  {
   "cell_type": "code",
   "execution_count": 9,
   "metadata": {},
   "outputs": [
    {
     "name": "stdout",
     "output_type": "stream",
     "text": [
      "1\n"
     ]
    },
    {
     "data": {
      "text/plain": [
       "int"
      ]
     },
     "execution_count": 9,
     "metadata": {},
     "output_type": "execute_result"
    }
   ],
   "source": [
    "print lista1[0]\n",
    "type(lista1[0])"
   ]
  },
  {
   "cell_type": "code",
   "execution_count": 10,
   "metadata": {},
   "outputs": [
    {
     "name": "stdout",
     "output_type": "stream",
     "text": [
      "3.14\n"
     ]
    },
    {
     "data": {
      "text/plain": [
       "float"
      ]
     },
     "execution_count": 10,
     "metadata": {},
     "output_type": "execute_result"
    }
   ],
   "source": [
    "print lista1[1]\n",
    "type(lista1[1])"
   ]
  },
  {
   "cell_type": "code",
   "execution_count": 11,
   "metadata": {},
   "outputs": [
    {
     "name": "stdout",
     "output_type": "stream",
     "text": [
      "python\n"
     ]
    },
    {
     "data": {
      "text/plain": [
       "str"
      ]
     },
     "execution_count": 11,
     "metadata": {},
     "output_type": "execute_result"
    }
   ],
   "source": [
    "print lista1[2]\n",
    "type(lista1[2])"
   ]
  },
  {
   "cell_type": "code",
   "execution_count": 12,
   "metadata": {},
   "outputs": [
    {
     "name": "stdout",
     "output_type": "stream",
     "text": [
      "True\n"
     ]
    },
    {
     "data": {
      "text/plain": [
       "bool"
      ]
     },
     "execution_count": 12,
     "metadata": {},
     "output_type": "execute_result"
    }
   ],
   "source": [
    "print lista1[3]\n",
    "type(lista1[3])"
   ]
  },
  {
   "cell_type": "code",
   "execution_count": 13,
   "metadata": {},
   "outputs": [
    {
     "name": "stdout",
     "output_type": "stream",
     "text": [
      "[1, 3.14, 'python', True]\n",
      "[3.14, 'python', True]\n"
     ]
    }
   ],
   "source": [
    "print lista1\n",
    "\n",
    "del lista1[0]\n",
    "\n",
    "print lista1"
   ]
  },
  {
   "cell_type": "markdown",
   "metadata": {},
   "source": [
    "#### Métodos"
   ]
  },
  {
   "cell_type": "code",
   "execution_count": 14,
   "metadata": {},
   "outputs": [
    {
     "name": "stdout",
     "output_type": "stream",
     "text": [
      "[3.14, 'python', True, 2]\n",
      "4\n"
     ]
    }
   ],
   "source": [
    "lista1.append(2)\n",
    "print lista1\n",
    "print len(lista1)"
   ]
  },
  {
   "cell_type": "code",
   "execution_count": 15,
   "metadata": {},
   "outputs": [
    {
     "name": "stdout",
     "output_type": "stream",
     "text": [
      "2\n",
      "[3.14, 'python', True]\n"
     ]
    }
   ],
   "source": [
    "p = lista1.pop(-1)\n",
    "print p\n",
    "print lista1"
   ]
  },
  {
   "cell_type": "code",
   "execution_count": 16,
   "metadata": {},
   "outputs": [
    {
     "name": "stdout",
     "output_type": "stream",
     "text": [
      "[2, 3.14, 'python', True]\n"
     ]
    }
   ],
   "source": [
    "lista1.insert(0,p)\n",
    "print lista1"
   ]
  },
  {
   "cell_type": "markdown",
   "metadata": {},
   "source": [
    "### 3. Bibliotecas\n",
    "\n"
   ]
  },
  {
   "cell_type": "markdown",
   "metadata": {},
   "source": [
    "Alem das funções [Built-in](https://docs.python.org/2/library/functions.html#) do Python 2.7, outras funções e objetos podem ser incorporados usando as palavras reservadas ``` import```, ```from ``` e ``` as```"
   ]
  },
  {
   "cell_type": "markdown",
   "metadata": {},
   "source": [
    "#### Biblioteca keyword"
   ]
  },
  {
   "cell_type": "code",
   "execution_count": 17,
   "metadata": {},
   "outputs": [
    {
     "name": "stdout",
     "output_type": "stream",
     "text": [
      "['and', 'as', 'assert', 'break', 'class', 'continue', 'def', 'del', 'elif', 'else', 'except', 'exec', 'finally', 'for', 'from', 'global', 'if', 'import', 'in', 'is', 'lambda', 'not', 'or', 'pass', 'print', 'raise', 'return', 'try', 'while', 'with', 'yield']\n"
     ]
    }
   ],
   "source": [
    "import keyword\n",
    "\n",
    "pyKw = keyword.kwlist\n",
    "\n",
    "print pyKw"
   ]
  },
  {
   "cell_type": "code",
   "execution_count": 18,
   "metadata": {},
   "outputs": [
    {
     "data": {
      "text/plain": [
       "31"
      ]
     },
     "execution_count": 18,
     "metadata": {},
     "output_type": "execute_result"
    }
   ],
   "source": [
    "len(pyKw)"
   ]
  },
  {
   "cell_type": "markdown",
   "metadata": {},
   "source": [
    "#### Biblioteca math"
   ]
  },
  {
   "cell_type": "code",
   "execution_count": 19,
   "metadata": {},
   "outputs": [
    {
     "name": "stdout",
     "output_type": "stream",
     "text": [
      "2.0\n"
     ]
    }
   ],
   "source": [
    "# importando biblioteca\n",
    "import math\n",
    "\n",
    "# atribuindo valor à variável x\n",
    "x = 4\n",
    "\n",
    "#usando a função raíz quadrada da biblioteca math\n",
    "print math.sqrt(x)\n"
   ]
  },
  {
   "cell_type": "code",
   "execution_count": 20,
   "metadata": {
    "scrolled": true
   },
   "outputs": [
    {
     "name": "stdout",
     "output_type": "stream",
     "text": [
      "0.866025403784\n"
     ]
    }
   ],
   "source": [
    "#usando a função seno da biblioteca math\n",
    "\n",
    "y = 60\n",
    "\n",
    "print math.sin(math.radians(y))"
   ]
  },
  {
   "cell_type": "markdown",
   "metadata": {},
   "source": [
    "#### Biblioteca datetime"
   ]
  },
  {
   "cell_type": "code",
   "execution_count": 21,
   "metadata": {},
   "outputs": [],
   "source": [
    "import datetime"
   ]
  },
  {
   "cell_type": "code",
   "execution_count": 22,
   "metadata": {},
   "outputs": [
    {
     "name": "stdout",
     "output_type": "stream",
     "text": [
      "2018-09-02\n"
     ]
    }
   ],
   "source": [
    "bDay = datetime.date(2018, 9, 2)\n",
    "\n",
    "print bDay"
   ]
  },
  {
   "cell_type": "code",
   "execution_count": 23,
   "metadata": {},
   "outputs": [],
   "source": [
    "# dia da semana\n",
    "diaSem = bDay.weekday()"
   ]
  },
  {
   "cell_type": "code",
   "execution_count": 24,
   "metadata": {},
   "outputs": [
    {
     "name": "stdout",
     "output_type": "stream",
     "text": [
      "o dia  2018-09-02  cairá no(a) dom\n"
     ]
    }
   ],
   "source": [
    "semana = [ 'seg', 'ter', 'qua', 'qui', 'sex', 'sab', 'dom']\n",
    "\n",
    "print \"o dia \", bDay, \" cairá no(a)\", semana[diaSem]"
   ]
  },
  {
   "cell_type": "code",
   "execution_count": 25,
   "metadata": {},
   "outputs": [
    {
     "name": "stdout",
     "output_type": "stream",
     "text": [
      "2017-11-25\n"
     ]
    }
   ],
   "source": [
    "fimDoCurso = datetime.date(2018, 2, 23)\n",
    "\n",
    "limite = datetime.timedelta(days=90)\n",
    "\n",
    "print fimDoCurso - limite\n"
   ]
  },
  {
   "cell_type": "markdown",
   "metadata": {},
   "source": [
    "#### Três formas de importação"
   ]
  },
  {
   "cell_type": "code",
   "execution_count": 26,
   "metadata": {},
   "outputs": [
    {
     "name": "stdout",
     "output_type": "stream",
     "text": [
      "60  em gráus =  1.0471975512  em radiandos\n",
      "seno de  60 ° =  0.866025403784\n"
     ]
    }
   ],
   "source": [
    "import math\n",
    "\n",
    "ang = 60\n",
    "\n",
    "angRad = math.radians(60)\n",
    "\n",
    "print ang, \" em gráus = \", angRad, \" em radiandos\"\n",
    "\n",
    "print \"seno de \", ang, \"° = \",math.sin(angRad)"
   ]
  },
  {
   "cell_type": "code",
   "execution_count": 27,
   "metadata": {},
   "outputs": [
    {
     "name": "stdout",
     "output_type": "stream",
     "text": [
      "60  em gráus =  1.0471975512  em radiandos\n",
      "seno de  60 ° =  0.866025403784\n"
     ]
    }
   ],
   "source": [
    "import math as m\n",
    "\n",
    "ang = 60\n",
    "\n",
    "angRad = m.radians(60)\n",
    "\n",
    "print ang, \" em gráus = \", angRad, \" em radiandos\"\n",
    "\n",
    "print \"seno de \", ang, \"° = \",m.sin(angRad)"
   ]
  },
  {
   "cell_type": "code",
   "execution_count": 28,
   "metadata": {},
   "outputs": [
    {
     "name": "stdout",
     "output_type": "stream",
     "text": [
      "60  em gráus =  1.0471975512  em radiandos\n",
      "seno de  60 ° =  0.866025403784\n"
     ]
    }
   ],
   "source": [
    "from math import sin, radians\n",
    "\n",
    "ang = 60\n",
    "\n",
    "angRad = radians(60)\n",
    "\n",
    "print ang, \" em gráus = \", angRad, \" em radiandos\"\n",
    "\n",
    "print \"seno de \", ang, \"° = \",sin(angRad)"
   ]
  },
  {
   "cell_type": "markdown",
   "metadata": {},
   "source": [
    "### 4. Funções Definidas Pelo Usuário"
   ]
  },
  {
   "cell_type": "markdown",
   "metadata": {},
   "source": [
    "O usuário pode definir funções usando a palavra reservada ``` def ```"
   ]
  },
  {
   "cell_type": "code",
   "execution_count": 29,
   "metadata": {},
   "outputs": [],
   "source": [
    "def teste():\n",
    "    print 'função de teste'"
   ]
  },
  {
   "cell_type": "markdown",
   "metadata": {},
   "source": [
    "Após a definição é preciso chamar a função para executar\n"
   ]
  },
  {
   "cell_type": "code",
   "execution_count": 30,
   "metadata": {},
   "outputs": [
    {
     "name": "stdout",
     "output_type": "stream",
     "text": [
      "função de teste\n"
     ]
    }
   ],
   "source": [
    "teste()"
   ]
  },
  {
   "cell_type": "markdown",
   "metadata": {},
   "source": [
    "A definição de funções ajuda a organizar o código e facilita a evolução e manutenção do programa. Uma das vantágens de trabalhar com funções é quando a função deve ser chamada diversas vezes em um mesmo código."
   ]
  },
  {
   "cell_type": "code",
   "execution_count": 31,
   "metadata": {},
   "outputs": [
    {
     "name": "stdout",
     "output_type": "stream",
     "text": [
      " ---Primeira chamada\n",
      "função de teste\n",
      " ---Segunda chamada\n",
      "função de teste\n",
      " ---Terceira chamada\n",
      "função de teste\n"
     ]
    }
   ],
   "source": [
    "print \" ---Primeira chamada\"\n",
    "teste()\n",
    "print \" ---Segunda chamada\"\n",
    "teste()\n",
    "print \" ---Terceira chamada\"\n",
    "teste()"
   ]
  },
  {
   "cell_type": "markdown",
   "metadata": {},
   "source": [
    "Exemplo de funções:"
   ]
  },
  {
   "cell_type": "code",
   "execution_count": 32,
   "metadata": {},
   "outputs": [],
   "source": [
    "import math as m\n",
    "\n",
    "\n",
    "# Cálculo de delta\n",
    "def delta(a,b,c):\n",
    "    d = b**2 - (4*a*c)\n",
    "    return d\n",
    "\n",
    "# Função Bhaskara\n",
    "def Bhaskara(a,b,c):\n",
    "    # Chamada da função de delta\n",
    "    dt = delta(a,b,c)\n",
    "    # testando o valor de delta\n",
    "    if dt < 0:\n",
    "        print \"Não existem raízes reias para esta equação\"\n",
    "    if dt == 0:\n",
    "        r = (-b)/(2*a)\n",
    "        print \"A raíz da equação é \", r\n",
    "    if dt > 0:\n",
    "        r1 = (-b - m.sqrt(dt))/(2*a)\n",
    "        r2 = (-b + m.sqrt(dt))/(2*a)\n",
    "        print \"As raizes da equação são \", r1, \" e \", r2"
   ]
  },
  {
   "cell_type": "markdown",
   "metadata": {},
   "source": [
    "Após a definição destas funções é possivel calcular as raízes de qualquer equação do segundo grau."
   ]
  },
  {
   "cell_type": "code",
   "execution_count": 33,
   "metadata": {},
   "outputs": [
    {
     "data": {
      "text/plain": [
       "-8"
      ]
     },
     "execution_count": 33,
     "metadata": {},
     "output_type": "execute_result"
    }
   ],
   "source": [
    "delta(1,2,3)"
   ]
  },
  {
   "cell_type": "code",
   "execution_count": 34,
   "metadata": {
    "scrolled": true
   },
   "outputs": [
    {
     "name": "stdout",
     "output_type": "stream",
     "text": [
      "Não existem raízes reias para esta equação\n"
     ]
    }
   ],
   "source": [
    "Bhaskara(1,2,3)"
   ]
  },
  {
   "cell_type": "code",
   "execution_count": 35,
   "metadata": {},
   "outputs": [
    {
     "data": {
      "text/plain": [
       "0"
      ]
     },
     "execution_count": 35,
     "metadata": {},
     "output_type": "execute_result"
    }
   ],
   "source": [
    "delta(2,4,2)"
   ]
  },
  {
   "cell_type": "code",
   "execution_count": 36,
   "metadata": {},
   "outputs": [
    {
     "name": "stdout",
     "output_type": "stream",
     "text": [
      "A raíz da equação é  -1\n"
     ]
    }
   ],
   "source": [
    "Bhaskara(2,4,2)"
   ]
  },
  {
   "cell_type": "code",
   "execution_count": 37,
   "metadata": {},
   "outputs": [
    {
     "data": {
      "text/plain": [
       "16"
      ]
     },
     "execution_count": 37,
     "metadata": {},
     "output_type": "execute_result"
    }
   ],
   "source": [
    "delta(2,4,0)"
   ]
  },
  {
   "cell_type": "code",
   "execution_count": 38,
   "metadata": {},
   "outputs": [
    {
     "name": "stdout",
     "output_type": "stream",
     "text": [
      "As raizes da equação são  -2.0  e  0.0\n"
     ]
    }
   ],
   "source": [
    "Bhaskara(2,4,0)"
   ]
  }
 ],
 "metadata": {
  "kernelspec": {
   "display_name": "Python 2",
   "language": "python",
   "name": "python2"
  },
  "language_info": {
   "codemirror_mode": {
    "name": "ipython",
    "version": 2
   },
   "file_extension": ".py",
   "mimetype": "text/x-python",
   "name": "python",
   "nbconvert_exporter": "python",
   "pygments_lexer": "ipython2",
   "version": "2.7.13"
  }
 },
 "nbformat": 4,
 "nbformat_minor": 2
}
